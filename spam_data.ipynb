{
  "nbformat": 4,
  "nbformat_minor": 0,
  "metadata": {
    "colab": {
      "name": "spam_data.ipynb",
      "provenance": [],
      "toc_visible": true,
      "authorship_tag": "ABX9TyO8hfsvVrEUGJhrc676JCCu",
      "include_colab_link": true
    },
    "kernelspec": {
      "name": "python3",
      "display_name": "Python 3"
    },
    "language_info": {
      "name": "python"
    }
  },
  "cells": [
    {
      "cell_type": "markdown",
      "metadata": {
        "id": "view-in-github",
        "colab_type": "text"
      },
      "source": [
        "<a href=\"https://colab.research.google.com/github/alberthtan/spam_classification/blob/main/spam_data.ipynb\" target=\"_parent\"><img src=\"https://colab.research.google.com/assets/colab-badge.svg\" alt=\"Open In Colab\"/></a>"
      ]
    },
    {
      "cell_type": "markdown",
      "metadata": {
        "id": "w0TiPESuPsHc"
      },
      "source": [
        "1. Select and prepare data"
      ]
    },
    {
      "cell_type": "code",
      "metadata": {
        "colab": {
          "base_uri": "https://localhost:8080/",
          "height": 204
        },
        "id": "clL-IqzNPnjM",
        "outputId": "9177a6e8-4a6b-4de8-a00c-9bc4f65197fe"
      },
      "source": [
        "import pandas as pd\n",
        "import numpy as np\n",
        "\n",
        "# import chardet\n",
        "# with open('spam.csv', 'rb') as rawdata:\n",
        "#     result = chardet.detect(rawdata.read(100000))\n",
        "# result\n",
        "\n",
        "df = pd.read_csv('spam.csv', encoding='Windows-1252', usecols=[0,1])\n",
        "\n",
        "df.head()\n"
      ],
      "execution_count": 6,
      "outputs": [
        {
          "output_type": "execute_result",
          "data": {
            "text/html": [
              "<div>\n",
              "<style scoped>\n",
              "    .dataframe tbody tr th:only-of-type {\n",
              "        vertical-align: middle;\n",
              "    }\n",
              "\n",
              "    .dataframe tbody tr th {\n",
              "        vertical-align: top;\n",
              "    }\n",
              "\n",
              "    .dataframe thead th {\n",
              "        text-align: right;\n",
              "    }\n",
              "</style>\n",
              "<table border=\"1\" class=\"dataframe\">\n",
              "  <thead>\n",
              "    <tr style=\"text-align: right;\">\n",
              "      <th></th>\n",
              "      <th>v1</th>\n",
              "      <th>v2</th>\n",
              "    </tr>\n",
              "  </thead>\n",
              "  <tbody>\n",
              "    <tr>\n",
              "      <th>0</th>\n",
              "      <td>ham</td>\n",
              "      <td>Go until jurong point, crazy.. Available only ...</td>\n",
              "    </tr>\n",
              "    <tr>\n",
              "      <th>1</th>\n",
              "      <td>ham</td>\n",
              "      <td>Ok lar... Joking wif u oni...</td>\n",
              "    </tr>\n",
              "    <tr>\n",
              "      <th>2</th>\n",
              "      <td>spam</td>\n",
              "      <td>Free entry in 2 a wkly comp to win FA Cup fina...</td>\n",
              "    </tr>\n",
              "    <tr>\n",
              "      <th>3</th>\n",
              "      <td>ham</td>\n",
              "      <td>U dun say so early hor... U c already then say...</td>\n",
              "    </tr>\n",
              "    <tr>\n",
              "      <th>4</th>\n",
              "      <td>ham</td>\n",
              "      <td>Nah I don't think he goes to usf, he lives aro...</td>\n",
              "    </tr>\n",
              "  </tbody>\n",
              "</table>\n",
              "</div>"
            ],
            "text/plain": [
              "     v1                                                 v2\n",
              "0   ham  Go until jurong point, crazy.. Available only ...\n",
              "1   ham                      Ok lar... Joking wif u oni...\n",
              "2  spam  Free entry in 2 a wkly comp to win FA Cup fina...\n",
              "3   ham  U dun say so early hor... U c already then say...\n",
              "4   ham  Nah I don't think he goes to usf, he lives aro..."
            ]
          },
          "metadata": {
            "tags": []
          },
          "execution_count": 6
        }
      ]
    },
    {
      "cell_type": "markdown",
      "metadata": {
        "id": "PHYGObezkEZ7"
      },
      "source": [
        "Split data into training and testing sets"
      ]
    },
    {
      "cell_type": "code",
      "metadata": {
        "colab": {
          "base_uri": "https://localhost:8080/"
        },
        "id": "VO_xvlhJi99i",
        "outputId": "a71996b1-4b69-47f9-b954-e6c95fd5d0a3"
      },
      "source": [
        "from sklearn.model_selection import train_test_split\n",
        "\n",
        "x = df.v2\n",
        "y = df.v1\n",
        "\n",
        "x_train, x_test, y_train, y_test = train_test_split(x, y, test_size=0.25)\n",
        "print(x_train)"
      ],
      "execution_count": 13,
      "outputs": [
        {
          "output_type": "stream",
          "text": [
            "3256    No, but you told me you were going, before you...\n",
            "736     Thanks for looking out for me. I really apprec...\n",
            "3212                                       What's ur pin?\n",
            "1175    Horrible u eat macs eat until u forgot abt me ...\n",
            "2982                     What should i eat fo lunch senor\n",
            "                              ...                        \n",
            "3630               Thank you princess! You are so sexy...\n",
            "1654    Wishing you and your family Merry \\X\\\" mas and...\n",
            "1362                        What does the dance river do?\n",
            "2682    I got a call from a landline number. . . I am ...\n",
            "4492    LOL .. *grins* .. I'm not babe, but thanks for...\n",
            "Name: v2, Length: 4179, dtype: object\n"
          ],
          "name": "stdout"
        }
      ]
    },
    {
      "cell_type": "markdown",
      "metadata": {
        "id": "Gp6RAlHgkIq1"
      },
      "source": [
        "Extract Features"
      ]
    },
    {
      "cell_type": "code",
      "metadata": {
        "id": "Neh7oCw7kJvf"
      },
      "source": [
        "from sklearn.feature_extraction.text import CountVectorizer # transforms text into the a matrix of token counts\n",
        "\n",
        "cv = CountVectorizer()\n",
        "features = cv.fit_transform(x_train)\n",
        "print(features)"
      ],
      "execution_count": null,
      "outputs": []
    },
    {
      "cell_type": "markdown",
      "metadata": {
        "id": "DNr79i6Ul45I"
      },
      "source": [
        "Build Model"
      ]
    },
    {
      "cell_type": "code",
      "metadata": {
        "colab": {
          "base_uri": "https://localhost:8080/"
        },
        "id": "7IblpoH-l6N1",
        "outputId": "1bc6f3d6-8578-4cd9-addb-28e833b1f41a"
      },
      "source": [
        "from sklearn import svm\n",
        "# support vector machine as a classifier\n",
        "\n",
        "model = svm.SVC()\n",
        "\n",
        "model.fit(features, y_train)\n",
        "\n",
        "features_test = cv.transform(x_test)\n",
        "model.score(features_test, y_test)"
      ],
      "execution_count": 17,
      "outputs": [
        {
          "output_type": "execute_result",
          "data": {
            "text/plain": [
              "0.9842067480258435"
            ]
          },
          "metadata": {
            "tags": []
          },
          "execution_count": 17
        }
      ]
    }
  ]
}